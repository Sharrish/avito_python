{
 "cells": [
  {
   "cell_type": "markdown",
   "metadata": {},
   "source": [
    "**1. Разбить число на разряды**"
   ]
  },
  {
   "cell_type": "code",
   "execution_count": 2,
   "metadata": {},
   "outputs": [
    {
     "name": "stdout",
     "output_type": "stream",
     "text": [
      "[1, 8, 2, 7, 1, 8]\n"
     ]
    }
   ],
   "source": [
    "n = 182718\n",
    "\n",
    "def split_n(n):\n",
    "    return [int(digit) for digit in str(n)]\n",
    "\n",
    "print(split_n(n))"
   ]
  },
  {
   "cell_type": "markdown",
   "metadata": {},
   "source": [
    "**2. Подсчитать кол-во чётных и нечётных цифр в числе**"
   ]
  },
  {
   "cell_type": "code",
   "execution_count": 18,
   "metadata": {},
   "outputs": [
    {
     "name": "stdout",
     "output_type": "stream",
     "text": [
      "четных - 3\n",
      "нечетных - 4\n"
     ]
    }
   ],
   "source": [
    "n = 1827187\n",
    "\n",
    "def counter(n):\n",
    "    chet = sum([1 if (int(digit))%2 == 0 else 0 for digit in str(n)])\n",
    "    return chet, len(str(n)) - chet\n",
    "\n",
    "result = counter(n)\n",
    "\n",
    "print('четных - {}\\nнечетных - {}'.format(result[0], result[1]))"
   ]
  },
  {
   "cell_type": "markdown",
   "metadata": {},
   "source": [
    "**3. Развернуть список**"
   ]
  },
  {
   "cell_type": "code",
   "execution_count": 21,
   "metadata": {},
   "outputs": [
    {
     "name": "stdout",
     "output_type": "stream",
     "text": [
      "[5, 4, 3, 2, 1]\n"
     ]
    }
   ],
   "source": [
    "list_1 = [1,2,3,4,5]\n",
    "\n",
    "def get_reversed_list(list):\n",
    "    return list[::-1] \n",
    "\n",
    "print(get_reversed_list(list_1))"
   ]
  },
  {
   "cell_type": "markdown",
   "metadata": {},
   "source": [
    "**4. Даны 2 списка. Нужно вывести элементы первого, которые отсутствуют во втором**"
   ]
  },
  {
   "cell_type": "code",
   "execution_count": 23,
   "metadata": {},
   "outputs": [
    {
     "name": "stdout",
     "output_type": "stream",
     "text": [
      "[1, 2, 3]\n"
     ]
    }
   ],
   "source": [
    "list_1 = [1,2,3,4,5]\n",
    "list_2 = [4,5,6,7,8]\n",
    "\n",
    "# вариант с сохранением порядка\n",
    "def lists_diff(list_1, list_2):\n",
    "    return [x for x in list_1 if x not in set(list_2)]\n",
    "\n",
    "print(lists_diff(list_1, list_2))"
   ]
  },
  {
   "cell_type": "markdown",
   "metadata": {},
   "source": [
    "**5. Убрать дубликаты в списке**"
   ]
  },
  {
   "cell_type": "code",
   "execution_count": 80,
   "metadata": {},
   "outputs": [
    {
     "name": "stdout",
     "output_type": "stream",
     "text": [
      "[1, 6, 2, 3, 4, 5, 7]\n"
     ]
    }
   ],
   "source": [
    "some_list = [1,6,2,2,2,3,3,4,5,7]\n",
    "\n",
    "def deduplicate(some_list):\n",
    "    new_list = []\n",
    "    for i in some_list:\n",
    "        if i not in new_list:\n",
    "            new_list.append(i)\n",
    "    return new_list\n",
    "\n",
    "print(deduplicate(some_list))"
   ]
  },
  {
   "cell_type": "code",
   "execution_count": 31,
   "metadata": {},
   "outputs": [
    {
     "name": "stdout",
     "output_type": "stream",
     "text": [
      "[1, 2, 3, 4, 5, 6, 7]\n"
     ]
    }
   ],
   "source": [
    "# вариант совсем без сохранения порядка\n",
    "some_list = [1,6,2,2,2,3,3,4,5,7]\n",
    "\n",
    "def deduplicate(some_list):\n",
    "    return(list(set(some_list)))\n",
    "\n",
    "print(deduplicate(some_list))"
   ]
  },
  {
   "cell_type": "markdown",
   "metadata": {},
   "source": [
    "**6. Подсчитать кол-во неуникальных элементов в списке/кортеже**"
   ]
  },
  {
   "cell_type": "code",
   "execution_count": 33,
   "metadata": {},
   "outputs": [
    {
     "name": "stdout",
     "output_type": "stream",
     "text": [
      "3\n"
     ]
    }
   ],
   "source": [
    "some_list = [1,6,2,2,2,3,3,4,5,7]\n",
    "\n",
    "def count_ununique_elements(some_list):\n",
    "    return len(some_list) - len(set(some_list))\n",
    "\n",
    "print(count_ununique_elements(some_list))"
   ]
  },
  {
   "cell_type": "markdown",
   "metadata": {},
   "source": [
    "**7. Удалить из списка элементы, которые не удовлетворяют условию (без использования filter)**"
   ]
  },
  {
   "cell_type": "code",
   "execution_count": 35,
   "metadata": {},
   "outputs": [
    {
     "name": "stdout",
     "output_type": "stream",
     "text": [
      "[1, 2, 3, 4, 6]\n"
     ]
    }
   ],
   "source": [
    "some_list = [1,2,3,4,5,5,6,10]\n",
    "\n",
    "def delete_by_condition(some_list):\n",
    "    return [x for x in some_list if x%5 != 0]\n",
    "\n",
    "print(delete_by_condition(some_list))"
   ]
  },
  {
   "cell_type": "code",
   "execution_count": 77,
   "metadata": {},
   "outputs": [
    {
     "name": "stdout",
     "output_type": "stream",
     "text": [
      "[1, 2, 3, 4, 6]\n"
     ]
    }
   ],
   "source": [
    "# with filter()\n",
    "some_list = [1,2,3,4,5,5,6,10]\n",
    "\n",
    "def delete_by_condition(some_list):\n",
    "    return list(filter(lambda x: x%5 != 0, some_list))\n",
    "\n",
    "print(delete_by_condition(some_list))"
   ]
  },
  {
   "cell_type": "markdown",
   "metadata": {},
   "source": [
    "**8. Разбить строку на слова и подсчитать, сколько раз каждое слово встречается в тексте**"
   ]
  },
  {
   "cell_type": "code",
   "execution_count": 79,
   "metadata": {},
   "outputs": [
    {
     "name": "stdout",
     "output_type": "stream",
     "text": [
      "ad  --  1\n",
      "adipiscing  --  1\n",
      "aliqua  --  1\n",
      "aliquip  --  1\n",
      "amet  --  1\n",
      "anim  --  1\n",
      "aute  --  1\n",
      "cillum  --  1\n",
      "commodo  --  1\n",
      "consectetur  --  1\n",
      "consequat  --  1\n",
      "culpa  --  1\n",
      "cupidatat  --  1\n",
      "deserunt  --  1\n",
      "do  --  1\n",
      "dolor  --  2\n",
      "dolore  --  2\n",
      "duis  --  1\n",
      "ea  --  1\n",
      "eiusmod  --  1\n",
      "elit  --  1\n",
      "enim  --  1\n",
      "esse  --  1\n",
      "est  --  1\n",
      "et  --  1\n",
      "eu  --  1\n",
      "ex  --  1\n",
      "excepteur  --  1\n",
      "exercitation  --  1\n",
      "fugiat  --  1\n",
      "id  --  1\n",
      "in  --  3\n",
      "incididunt  --  1\n",
      "ipsum  --  1\n",
      "irure  --  1\n",
      "labore  --  1\n",
      "laboris  --  1\n",
      "laborum  --  1\n",
      "lorem  --  1\n",
      "magna  --  1\n",
      "minim  --  1\n",
      "mollit  --  1\n",
      "nisi  --  1\n",
      "non  --  1\n",
      "nostrud  --  1\n",
      "nulla  --  1\n",
      "occaecat  --  1\n",
      "officia  --  1\n",
      "pariatur  --  1\n",
      "proident  --  1\n",
      "qui  --  1\n",
      "quis  --  1\n",
      "reprehenderit  --  1\n",
      "sed  --  1\n",
      "sint  --  1\n",
      "sit  --  1\n",
      "sunt  --  1\n",
      "tempor  --  1\n",
      "ullamco  --  1\n",
      "ut  --  3\n",
      "velit  --  1\n",
      "veniam  --  1\n",
      "voluptate  --  1\n"
     ]
    }
   ],
   "source": [
    "from collections import Counter\n",
    "import json\n",
    "\n",
    "text = '''\n",
    "Lorem ipsum dolor sit amet, consectetur adipiscing elit, sed do eiusmod tempor \n",
    "incididunt ut labore et dolore magna aliqua. Ut enim ad minim veniam, quis \n",
    "nostrud exercitation ullamco laboris nisi ut aliquip ex ea commodo consequat. \n",
    "Duis aute irure dolor in reprehenderit in voluptate velit esse cillum dolore \n",
    "eu fugiat nulla pariatur. Excepteur sint occaecat cupidatat non proident, sunt \n",
    "in culpa qui officia deserunt mollit anim id est laborum.\n",
    "'''\n",
    "\n",
    "def print_count_words(text):\n",
    "    words_dict = Counter(text.strip().lower().replace(',','').replace('.','').split())\n",
    "    # делаем сортировку по ключам, чтобы удобнее было смотреть вывод\n",
    "    for key in sorted(words_dict.keys()) :\n",
    "        print(key , \" -- \" , words_dict[key])\n",
    "    \n",
    "print_count_words(text)"
   ]
  },
  {
   "cell_type": "markdown",
   "metadata": {},
   "source": [
    "**9. Заменить несколько идущих пробельных символов в строке на один пробел**"
   ]
  },
  {
   "cell_type": "code",
   "execution_count": 54,
   "metadata": {},
   "outputs": [
    {
     "name": "stdout",
     "output_type": "stream",
     "text": [
      "Lorem ipsum dolor\n"
     ]
    }
   ],
   "source": [
    "import re\n",
    "\n",
    "some_str = 'Lorem   ipsum  dolor'\n",
    "\n",
    "def replace_spaces(some_str):\n",
    "    return re.sub(r'\\s{2,}', ' ', some_str)\n",
    "\n",
    "print(replace_spaces(some_str))"
   ]
  },
  {
   "cell_type": "markdown",
   "metadata": {},
   "source": [
    "**10. Дан список строк. Нужно оставить только те, в которых строки содержат заданную подстроку**"
   ]
  },
  {
   "cell_type": "code",
   "execution_count": 55,
   "metadata": {},
   "outputs": [
    {
     "name": "stdout",
     "output_type": "stream",
     "text": [
      "['ab', 'abc', 'tab']\n"
     ]
    }
   ],
   "source": [
    "str_list = ['ab', 'abc', 'acg', 'rmkrm', 'tab']\n",
    "\n",
    "def get_by_substr(str_list):\n",
    "    return [x for x in str_list if 'ab' in x]\n",
    "\n",
    "print(get_by_substr(str_list))"
   ]
  },
  {
   "cell_type": "markdown",
   "metadata": {},
   "source": [
    "**11. Дан список пар координат. Вывести те, которые заданы неверно (широта должна быть от -90.0 до 90.0, долгота – от -180.0 до 180.0**"
   ]
  },
  {
   "cell_type": "code",
   "execution_count": 61,
   "metadata": {},
   "outputs": [
    {
     "name": "stdout",
     "output_type": "stream",
     "text": [
      "[[107, 157], [67, 201], [-131, -182]]\n"
     ]
    }
   ],
   "source": [
    "coord_list = [[78,20], [107, 157], [67, 201], [-131, -182]]\n",
    "\n",
    "def get_wrong_coords(coord_list):\n",
    "    return [x for x in coord_list \n",
    "            if x[0] >= 90 or x[0] <= -90 \n",
    "            or x[1] >= 180 or x[1] <= -180]\n",
    "\n",
    "print(get_wrong_coords(coord_list))"
   ]
  },
  {
   "cell_type": "markdown",
   "metadata": {},
   "source": [
    "**12. Найти неверно закрывающуюся скобку в выражении () ((([]))}**"
   ]
  },
  {
   "cell_type": "code",
   "execution_count": 73,
   "metadata": {},
   "outputs": [
    {
     "ename": "SyntaxError",
     "evalue": "invalid syntax (<ipython-input-73-905e2e1da2b1>, line 1)",
     "output_type": "error",
     "traceback": [
      "\u001b[0;36m  File \u001b[0;32m\"<ipython-input-73-905e2e1da2b1>\"\u001b[0;36m, line \u001b[0;32m1\u001b[0m\n\u001b[0;31m    () ((([]))}\u001b[0m\n\u001b[0m              ^\u001b[0m\n\u001b[0;31mSyntaxError\u001b[0m\u001b[0;31m:\u001b[0m invalid syntax\n"
     ]
    }
   ],
   "source": [
    "# invalid syntax у последней '}' -> она неверно закрывается \n",
    "# вместо нее должна быть закрывающаяся ')'\n",
    "\n",
    "# wrong\n",
    "() ((([]))}"
   ]
  },
  {
   "cell_type": "code",
   "execution_count": null,
   "metadata": {},
   "outputs": [],
   "source": [
    "# right\n",
    "() ((([])))"
   ]
  }
 ],
 "metadata": {
  "kernelspec": {
   "display_name": "Python 3",
   "language": "python",
   "name": "python3"
  },
  "language_info": {
   "codemirror_mode": {
    "name": "ipython",
    "version": 3
   },
   "file_extension": ".py",
   "mimetype": "text/x-python",
   "name": "python",
   "nbconvert_exporter": "python",
   "pygments_lexer": "ipython3",
   "version": "3.7.3"
  }
 },
 "nbformat": 4,
 "nbformat_minor": 2
}
